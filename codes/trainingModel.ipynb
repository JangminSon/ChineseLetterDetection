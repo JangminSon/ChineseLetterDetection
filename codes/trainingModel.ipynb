{
 "cells": [
  {
   "cell_type": "code",
   "execution_count": 1,
   "metadata": {
    "scrolled": false
   },
   "outputs": [
    {
     "name": "stdout",
     "output_type": "stream",
     "text": [
      "Going to read training images\n",
      "Now going to read bul files (Index: 0)\n",
      "Now going to read chil files (Index: 1)\n",
      "Now going to read de files (Index: 2)\n",
      "Now going to read e files (Index: 3)\n",
      "Now going to read ga files (Index: 4)\n",
      "Now going to read gack files (Index: 5)\n",
      "Now going to read gu files (Index: 6)\n",
      "Now going to read gyo files (Index: 7)\n",
      "Now going to read ho files (Index: 8)\n",
      "Now going to read jung files (Index: 9)\n",
      "Now going to read ka files (Index: 10)\n",
      "Now going to read kim files (Index: 11)\n",
      "Now going to read min files (Index: 12)\n",
      "Now going to read nyu files (Index: 13)\n",
      "Now going to read nyun files (Index: 14)\n",
      "Now going to read oh files (Index: 15)\n",
      "Now going to read pal files (Index: 16)\n",
      "Now going to read ryuck files (Index: 17)\n",
      "Now going to read sa files (Index: 18)\n",
      "Now going to read sam files (Index: 19)\n",
      "Now going to read sip files (Index: 20)\n",
      "Now going to read su files (Index: 21)\n",
      "Now going to read wang files (Index: 22)\n",
      "Complete reading input data. Will Now print a snippet of it\n",
      "Number of files in Training-set:\t\t4140\n",
      "Number of files in Validation-set:\t460\n"
     ]
    }
   ],
   "source": [
    "import dataset\n",
    "import tensorflow as tf\n",
    "import time\n",
    "import os\n",
    "from datetime import timedelta\n",
    "import cv2\n",
    "import math\n",
    "import numpy as np\n",
    "import random\n",
    "import matplotlib.pyplot as plt\n",
    "\n",
    "batch_size = 50\n",
    "classes = ['bul','chil','de','e','ga','gack','gu','gyo','ho','jung','ka','kim','min','nyu','nyun','oh','pal','ryuck','sa','sam','sip','su','wang']\n",
    "num_classes = len(classes)\n",
    "\n",
    "validation_size = 0.1\n",
    "img_size = 32\n",
    "num_channels = 3\n",
    "train_path='training_data'\n",
    "\n",
    "# We shall load all the training and validation images and labels into memory using openCV and use that during training\n",
    "data = dataset.read_train_sets(train_path, img_size, classes, validation_size=validation_size)\n",
    "\n",
    "print(\"Complete reading input data. Will Now print a snippet of it\")\n",
    "print(\"Number of files in Training-set:\\t\\t{}\".format(len(data.train.labels)))\n",
    "print(\"Number of files in Validation-set:\\t{}\".format(len(data.valid.labels)))"
   ]
  },
  {
   "cell_type": "code",
   "execution_count": 2,
   "metadata": {
    "collapsed": true
   },
   "outputs": [],
   "source": [
    "summary = tf.summary.merge_all()\n",
    "session = tf.Session()\n",
    "summary_writer = tf.summary.FileWriter('./board/sample_2',session.graph)\n",
    "x = tf.placeholder(tf.float32, shape=[None, img_size,img_size,num_channels], name='x')\n",
    "\n",
    "## labels\n",
    "y_true = tf.placeholder(tf.float32, shape=[None, num_classes], name='y_true')\n",
    "y_true_cls = tf.argmax(y_true, dimension=1)\n",
    "\n",
    "filter_size_conv1 = 3 \n",
    "num_filters_conv1 = 32\n",
    "\n",
    "filter_size_conv2 = 3\n",
    "num_filters_conv2 = 32\n",
    "\n",
    "filter_size_conv3 = 3\n",
    "num_filters_conv3 = 64\n",
    "    \n",
    "fc_layer_size = 128"
   ]
  },
  {
   "cell_type": "code",
   "execution_count": 3,
   "metadata": {
    "collapsed": true
   },
   "outputs": [],
   "source": [
    "def create_weights(shape):\n",
    "    return tf.Variable(tf.truncated_normal(shape, stddev=0.05))\n",
    "\n",
    "def create_biases(size):\n",
    "    return tf.Variable(tf.constant(0.05, shape=[size]))"
   ]
  },
  {
   "cell_type": "code",
   "execution_count": 4,
   "metadata": {
    "collapsed": true
   },
   "outputs": [],
   "source": [
    "def create_convolutional_layer(input,num_input_channels, conv_filter_size, num_filters):  \n",
    "    \n",
    "    ## We shall define the weights that will be trained using create_weights function.\n",
    "    weights = create_weights(shape=[conv_filter_size, conv_filter_size, num_input_channels, num_filters])\n",
    "    ## We create biases using the create_biases function. These are also trained.\n",
    "    biases = create_biases(num_filters)\n",
    "\n",
    "    ## Creating the convolutional layer\n",
    "    layer = tf.nn.conv2d(input=input,\n",
    "                     filter=weights,\n",
    "                     strides=[1, 1, 1, 1],\n",
    "                     padding='SAME')\n",
    "\n",
    "    layer += biases\n",
    "\n",
    "    ## We shall be using max-pooling.  \n",
    "    layer = tf.nn.max_pool(value=layer,ksize=[1, 2, 2, 1],strides=[1, 2, 2, 1],padding='SAME')\n",
    "    ## Output of pooling is fed to Relu which is the activation function for us.\n",
    "    layer = tf.nn.relu(layer)\n",
    "\n",
    "    return layer"
   ]
  },
  {
   "cell_type": "code",
   "execution_count": 5,
   "metadata": {
    "collapsed": true
   },
   "outputs": [],
   "source": [
    "def create_flatten_layer(layer):\n",
    "    #We know that the shape of the layer will be [batch_size img_size img_size num_channels] \n",
    "    # But let's get it from the previous layer.\n",
    "    layer_shape = layer.get_shape()\n",
    "\n",
    "    ## Number of features will be img_height * img_width* num_channels. But we shall calculate it in place of hard-coding it.\n",
    "    num_features = layer_shape[1:4].num_elements()\n",
    "\n",
    "    ## Now, we Flatten the layer so we shall have to reshape to num_features\n",
    "    layer = tf.reshape(layer, [-1, num_features])\n",
    "\n",
    "    return layer"
   ]
  },
  {
   "cell_type": "code",
   "execution_count": 6,
   "metadata": {
    "collapsed": true
   },
   "outputs": [],
   "source": [
    "def create_fc_layer(input,          \n",
    "             num_inputs,    \n",
    "             num_outputs,\n",
    "             use_relu=True):\n",
    "    \n",
    "    #Let's define trainable weights and biases.\n",
    "    weights = create_weights(shape=[num_inputs, num_outputs])\n",
    "    biases = create_biases(num_outputs)\n",
    "\n",
    "    # Fully connected layer takes input x and produces wx+b.Since, these are matrices, we use matmul function in Tensorflow\n",
    "    layer = tf.matmul(input, weights) + biases\n",
    "    if use_relu:\n",
    "        layer = tf.nn.relu(layer)\n",
    "\n",
    "    return layer"
   ]
  },
  {
   "cell_type": "code",
   "execution_count": 7,
   "metadata": {
    "collapsed": true
   },
   "outputs": [],
   "source": [
    "layer_conv1 = create_convolutional_layer(input=x,\n",
    "               num_input_channels=num_channels,\n",
    "               conv_filter_size=filter_size_conv1,\n",
    "               num_filters=num_filters_conv1)\n",
    "layer_conv2 = create_convolutional_layer(input=layer_conv1,\n",
    "               num_input_channels=num_filters_conv1,\n",
    "               conv_filter_size=filter_size_conv2,\n",
    "               num_filters=num_filters_conv2)\n",
    "layer_conv3= create_convolutional_layer(input=layer_conv2,\n",
    "               num_input_channels=num_filters_conv2,\n",
    "               conv_filter_size=filter_size_conv3,\n",
    "               num_filters=num_filters_conv3)\n",
    "          \n",
    "layer_flat = create_flatten_layer(layer_conv3)\n",
    "\n",
    "layer_fc1 = create_fc_layer(input=layer_flat,\n",
    "                     num_inputs=layer_flat.get_shape()[1:4].num_elements(),\n",
    "                     num_outputs=fc_layer_size,\n",
    "                     use_relu=True)\n",
    "\n",
    "layer_fc2 = create_fc_layer(input=layer_fc1,\n",
    "                     num_inputs=fc_layer_size,\n",
    "                     num_outputs=num_classes,\n",
    "                     use_relu=False) \n",
    "\n",
    "y_pred = tf.nn.softmax(layer_fc2,name='y_pred')\n",
    "\n",
    "y_pred_cls = tf.argmax(y_pred, dimension=1)\n",
    "session.run(tf.global_variables_initializer())\n",
    "cross_entropy = tf.nn.softmax_cross_entropy_with_logits(logits=layer_fc2,\n",
    "                                                    labels=y_true)\n",
    "cost = tf.reduce_mean(cross_entropy)\n",
    "optimizer = tf.train.AdamOptimizer(learning_rate=1e-4).minimize(cost)\n",
    "correct_prediction = tf.equal(y_pred_cls, y_true_cls)\n",
    "accuracy = tf.reduce_mean(tf.cast(correct_prediction, tf.float32))\n",
    "tf.summary.scalar('Cost',cost)\n",
    "session.run(tf.global_variables_initializer()) "
   ]
  },
  {
   "cell_type": "code",
   "execution_count": 8,
   "metadata": {
    "collapsed": true
   },
   "outputs": [],
   "source": [
    "def show_progress(epoch, feed_dict_train):  #, feed_dict_validate, val_loss\n",
    "    acc = session.run(accuracy, feed_dict=feed_dict_train)\n",
    "    #val_acc = session.run(accuracy, feed_dict=feed_dict_validate)\n",
    "    msg = \"Training Epoch {0} --- Training Accuracy: {1:>6.1%}\"\n",
    "    print(msg.format(epoch + 1, acc))"
   ]
  },
  {
   "cell_type": "code",
   "execution_count": 9,
   "metadata": {
    "collapsed": true
   },
   "outputs": [],
   "source": [
    "def show_progress2(epoch, feed_dict_train):  #, feed_dict_validate, val_loss\n",
    "    acc = session.run(accuracy, feed_dict=feed_dict_train)\n",
    "    #val_acc = session.run(accuracy, feed_dict=feed_dict_validate)\n",
    "    msg = \"Test Epoch {0} --- Test Accuracy: {1:>6.1%}\"\n",
    "    print(msg.format(epoch + 1, acc))"
   ]
  },
  {
   "cell_type": "code",
   "execution_count": 10,
   "metadata": {
    "collapsed": true
   },
   "outputs": [],
   "source": [
    "total_iterations = 0\n",
    "saver = tf.train.Saver()"
   ]
  },
  {
   "cell_type": "code",
   "execution_count": null,
   "metadata": {
    "scrolled": true
   },
   "outputs": [
    {
     "name": "stdout",
     "output_type": "stream",
     "text": [
      "Training Epoch 1 --- Training Accuracy:  10.0%\n",
      "Test Epoch 1 --- Test Accuracy:   2.0%\n",
      "cost = 0.038076366\n",
      "Training Epoch 2 --- Training Accuracy:  46.0%\n",
      "Test Epoch 2 --- Test Accuracy:  30.0%\n",
      "cost = 0.037353646\n",
      "Training Epoch 3 --- Training Accuracy:  72.0%\n",
      "Test Epoch 3 --- Test Accuracy:  64.0%\n",
      "cost = 0.028526196\n",
      "Training Epoch 4 --- Training Accuracy:  92.0%\n",
      "Test Epoch 4 --- Test Accuracy:  92.0%\n",
      "cost = 0.007458243\n",
      "Training Epoch 5 --- Training Accuracy:  92.0%\n",
      "Test Epoch 5 --- Test Accuracy:  92.0%\n",
      "cost = 0.005077949\n",
      "Training Epoch 6 --- Training Accuracy:  92.0%\n",
      "Test Epoch 6 --- Test Accuracy:  84.0%\n",
      "cost = 0.004171918\n",
      "Training Epoch 7 --- Training Accuracy:  92.0%\n",
      "Test Epoch 7 --- Test Accuracy:  78.0%\n",
      "cost = 0.003668844\n",
      "Training Epoch 8 --- Training Accuracy:  94.0%\n",
      "Test Epoch 8 --- Test Accuracy:  84.0%\n",
      "cost = 0.003315522\n",
      "Training Epoch 9 --- Training Accuracy:  94.0%\n",
      "Test Epoch 9 --- Test Accuracy:  94.0%\n",
      "cost = 0.003021038\n",
      "Training Epoch 10 --- Training Accuracy:  96.0%\n",
      "Test Epoch 10 --- Test Accuracy:  96.0%\n",
      "cost = 0.002800984\n",
      "Training Epoch 11 --- Training Accuracy:  96.0%\n",
      "Test Epoch 11 --- Test Accuracy:  92.0%\n",
      "cost = 0.002584937\n",
      "Training Epoch 12 --- Training Accuracy:  96.0%\n",
      "Test Epoch 12 --- Test Accuracy:  92.0%\n",
      "cost = 0.002405517\n",
      "Training Epoch 13 --- Training Accuracy:  96.0%\n",
      "Test Epoch 13 --- Test Accuracy:  98.0%\n",
      "cost = 0.002227443\n"
     ]
    }
   ],
   "source": [
    "def train(num_iteration):\n",
    "    global total_iterations\n",
    "    \n",
    "    for i in range(total_iterations, total_iterations + num_iteration):\n",
    "        x_batch, y_true_batch, _, cls_batch = data.train.next_batch(batch_size)\n",
    "        x_valid_batch, y_valid_batch, _, valid_cls_batch = data.valid.next_batch(batch_size)\n",
    "        avg_cost = 0\n",
    "        \n",
    "        feed_dict_tr = {x: x_batch, y_true: y_true_batch}\n",
    "        feed_dict_val = {x: x_valid_batch,y_true: y_valid_batch}\n",
    "\n",
    "        session.run(optimizer, feed_dict=feed_dict_tr)\n",
    "\n",
    "        total_batch = int(data.train.num_examples/batch_size)\n",
    "        if i % int(data.train.num_examples/batch_size) == 0: \n",
    "           # summary_str = session.run(summary, feed_dict = feed_dict_tr)\n",
    "           # summary_writer.add_summary(summary_str, i)\n",
    "           # summary_writer.flush()\n",
    "            #val_loss = session.run(cost, feed_dict=feed_dict_val)\n",
    "            epoch = int(i / int(data.train.num_examples/batch_size))    \n",
    "            show_progress(epoch, feed_dict_tr) #, feed_dict_val, val_loss\n",
    "            show_progress2(epoch, feed_dict_val)\n",
    "            #save_path = saver.save(session, '.\\model.ckpt')\n",
    "            saver.save(session, os.path.join(os.getcwd(), 'chinaModel.ckpt'))\n",
    "            #saver.save(session, 'dogs-cats-model') \n",
    "            \n",
    "            c, _ = session.run([cost, optimizer], feed_dict=feed_dict_tr)\n",
    "            avg_cost += c / total_batch\n",
    "\n",
    "            print('cost =', '{:.9f}'.format(avg_cost))\n",
    "\n",
    "\n",
    "    total_iterations += num_iteration\n",
    "\n",
    "train(num_iteration=2000)"
   ]
  },
  {
   "cell_type": "code",
   "execution_count": null,
   "metadata": {},
   "outputs": [],
   "source": [
    "tf.train.write_graph(session.graph.as_graph_def(), \"models/\", \"graph.pb\")"
   ]
  },
  {
   "cell_type": "code",
   "execution_count": null,
   "metadata": {},
   "outputs": [],
   "source": [
    "r = random.randint(0,len(data.valid.labels)-1)\n",
    "plt.imshow(data.valid.images[r:r + 1].reshape(32, 32, 3),\n",
    "               cmap='Greys', interpolation='nearest')\n",
    "plt.show()\n",
    "tf.train.write_graph(session.graph_def, '.', 'chinaModel.pbtxt')  \n",
    "print(\"Label: \", session.run(tf.argmax(data.valid.labels[r:r + 1], 1)))\n",
    "idx = session.run(tf.argmax(data.valid.labels[r:r + 1], 1))\n",
    "print(\"name: \", classes[idx[0]])\n",
    "\n",
    "print(\"Prediction: \", session.run(tf.argmax(layer_fc2, 1), feed_dict={x: data.valid.images[r:r + 1]}))"
   ]
  },
  {
   "cell_type": "code",
   "execution_count": 19,
   "metadata": {
    "collapsed": true
   },
   "outputs": [],
   "source": []
  }
 ],
 "metadata": {
  "kernelspec": {
   "display_name": "Python 3",
   "language": "python",
   "name": "python3"
  },
  "language_info": {
   "codemirror_mode": {
    "name": "ipython",
    "version": 3
   },
   "file_extension": ".py",
   "mimetype": "text/x-python",
   "name": "python",
   "nbconvert_exporter": "python",
   "pygments_lexer": "ipython3",
   "version": "3.6.2"
  }
 },
 "nbformat": 4,
 "nbformat_minor": 2
}
